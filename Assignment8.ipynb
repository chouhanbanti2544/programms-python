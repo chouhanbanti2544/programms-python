{
 "cells": [
  {
   "cell_type": "markdown",
   "id": "aa0426eb",
   "metadata": {},
   "source": [
    "# 1. Write a Python Program to Add Two Matrices?"
   ]
  },
  {
   "cell_type": "code",
   "execution_count": null,
   "id": "3c275d46",
   "metadata": {},
   "outputs": [],
   "source": [
    "# initialize two matrices\n",
    "matrix1 = [[1, 2, 3], [4, 5, 6], [7, 8, 9]]\n",
    "matrix2 = [[10, 11, 12], [13, 14, 15], [16, 17, 18]]\n",
    "\n",
    "# create an empty matrix to store the result\n",
    "result = [[0, 0, 0], [0, 0, 0], [0, 0, 0]]\n",
    "\n",
    "# iterate through rows and columns and add corresponding elements\n",
    "for i in range(len(matrix1)):\n",
    "    for j in range(len(matrix1[0])):\n",
    "        result[i][j] = matrix1[i][j] + matrix2[i][j]\n",
    "\n",
    "# print the result\n",
    "for row in result:\n",
    "    print(row)\n"
   ]
  },
  {
   "cell_type": "markdown",
   "id": "a4270d3e",
   "metadata": {},
   "source": [
    "# 2. Write a Python Program to Multiply Two Matrices?"
   ]
  },
  {
   "cell_type": "code",
   "execution_count": null,
   "id": "25443800",
   "metadata": {},
   "outputs": [],
   "source": [
    "# initialize two matrices\n",
    "matrix1 = [[1, 2, 3], [4, 5, 6], [7, 8, 9]]\n",
    "matrix2 = [[10, 11, 12], [13, 14, 15], [16, 17, 18]]\n",
    "\n",
    "# create an empty matrix to store the result\n",
    "result = [[0, 0, 0], [0, 0, 0], [0, 0, 0]]\n",
    "\n",
    "# iterate through rows and columns and multiply corresponding elements\n",
    "for i in range(len(matrix1)):\n",
    "    for j in range(len(matrix2[0])):\n",
    "        for k in range(len(matrix2)):\n",
    "            result[i][j] += matrix1[i][k] * matrix2[k][j]\n",
    "\n",
    "# print the result\n",
    "for row in result:\n",
    "    print(row)\n"
   ]
  },
  {
   "cell_type": "markdown",
   "id": "aae67c2a",
   "metadata": {},
   "source": [
    "# 3. Write a Python Program to Transpose a Matrix?"
   ]
  },
  {
   "cell_type": "code",
   "execution_count": null,
   "id": "0bda9ece",
   "metadata": {},
   "outputs": [],
   "source": [
    "# initialize a matrix\n",
    "matrix = [[1, 2], [3, 4], [5, 6]]\n",
    "\n",
    "# create an empty matrix to store the result\n",
    "result = [[0, 0, 0], [0, 0, 0]]\n",
    "\n",
    "# iterate through rows and columns and transpose the matrix\n",
    "for i in range(len(matrix)):\n",
    "    for j in range(len(matrix[0])):\n",
    "        result[j][i] = matrix[i][j]\n",
    "\n",
    "# print the result\n",
    "for row in result:\n",
    "    print(row)\n"
   ]
  },
  {
   "cell_type": "markdown",
   "id": "6b709e96",
   "metadata": {},
   "source": [
    "# 4. Write a Python Program to Sort Words in Alphabetic Order?"
   ]
  },
  {
   "cell_type": "code",
   "execution_count": null,
   "id": "023eb2f8",
   "metadata": {},
   "outputs": [],
   "source": [
    "# initialize a string\n",
    "string = \"hello world this is a test string\"\n",
    "\n",
    "# split the string into words\n",
    "words = string.split()\n",
    "\n",
    "# sort the words in alphabetical order\n",
    "words.sort()\n",
    "\n",
    "# print the result\n",
    "for word in words:\n",
    "    print(word)\n"
   ]
  },
  {
   "cell_type": "markdown",
   "id": "fc11cb8f",
   "metadata": {},
   "source": [
    "# 5. Write a Python Program to Remove Punctuation From a String?"
   ]
  },
  {
   "cell_type": "code",
   "execution_count": null,
   "id": "8e554ece",
   "metadata": {},
   "outputs": [],
   "source": [
    "import string\n",
    "\n",
    "# initialize a string\n",
    "string = \"Hello, World! This is a test string.\"\n",
    "\n",
    "# remove punctuation from the string\n",
    "string = string.translate(str.maketrans(\"\", \"\", string.punctuation))\n",
    "\n",
    "# print the result\n",
    "print(string)\n"
   ]
  }
 ],
 "metadata": {
  "kernelspec": {
   "display_name": "Python 3 (ipykernel)",
   "language": "python",
   "name": "python3"
  },
  "language_info": {
   "codemirror_mode": {
    "name": "ipython",
    "version": 3
   },
   "file_extension": ".py",
   "mimetype": "text/x-python",
   "name": "python",
   "nbconvert_exporter": "python",
   "pygments_lexer": "ipython3",
   "version": "3.10.7"
  }
 },
 "nbformat": 4,
 "nbformat_minor": 5
}
