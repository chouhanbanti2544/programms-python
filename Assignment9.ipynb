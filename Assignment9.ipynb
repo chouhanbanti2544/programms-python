{
 "cells": [
  {
   "cell_type": "markdown",
   "id": "0d847f66",
   "metadata": {},
   "source": [
    "# 1. Write a Python program to check if the given number is a Disarium Number?"
   ]
  },
  {
   "cell_type": "code",
   "execution_count": null,
   "id": "02f48979",
   "metadata": {},
   "outputs": [],
   "source": [
    "num = int(input(\"Enter a number: \"))\n",
    "order = len(str(num))\n",
    "temp = num\n",
    "sum = 0\n",
    "\n",
    "while temp > 0:\n",
    "    digit = temp % 10\n",
    "    sum += digit ** order\n",
    "    order -= 1\n",
    "    temp //= 10\n",
    "    \n",
    "if num == sum:\n",
    "    print(num, \"is a Disarium number\")\n",
    "else:\n",
    "    print(num, \"is not a Disarium number\")\n"
   ]
  },
  {
   "cell_type": "markdown",
   "id": "26f1b029",
   "metadata": {},
   "source": [
    "# 2. Write a Python program to print all disarium numbers between 1 to 100?"
   ]
  },
  {
   "cell_type": "code",
   "execution_count": null,
   "id": "97309a64",
   "metadata": {},
   "outputs": [],
   "source": [
    "def is_disarium(n):\n",
    "    order = len(str(n))\n",
    "    temp = n\n",
    "    sum = 0\n",
    "\n",
    "    while temp > 0:\n",
    "        digit = temp % 10\n",
    "        sum += digit ** order\n",
    "        order -= 1\n",
    "        temp //= 10\n",
    "\n",
    "    return n == sum\n",
    "\n",
    "print(\"Disarium numbers between 1 to 100:\")\n",
    "for i in range(1, 101):\n",
    "    if is_disarium(i):\n",
    "        print(i)\n"
   ]
  },
  {
   "cell_type": "markdown",
   "id": "dea9d3b6",
   "metadata": {},
   "source": [
    "# 3. Write a Python program to check if the given number is Happy Number?"
   ]
  },
  {
   "cell_type": "code",
   "execution_count": null,
   "id": "0e8fbbef",
   "metadata": {},
   "outputs": [],
   "source": [
    "def is_happy(n):\n",
    "    seen = set()\n",
    "\n",
    "    while n != 1:\n",
    "        n = sum(int(i)**2 for i in str(n))\n",
    "        if n in seen:\n",
    "            return False\n",
    "        seen.add(n)\n",
    "\n",
    "    return True\n",
    "\n",
    "num = int(input(\"Enter a number: \"))\n",
    "if is_happy(num):\n",
    "    print(num, \"is a Happy number\")\n",
    "else:\n",
    "    print(num, \"is not a Happy number\")\n"
   ]
  },
  {
   "cell_type": "markdown",
   "id": "ef446b1f",
   "metadata": {},
   "source": [
    "# 4. Write a Python program to print all happy numbers between 1 and 100?"
   ]
  },
  {
   "cell_type": "code",
   "execution_count": null,
   "id": "16112a86",
   "metadata": {},
   "outputs": [],
   "source": [
    "def is_happy(n):\n",
    "    seen = set()\n",
    "\n",
    "    while n != 1:\n",
    "        n = sum(int(i)**2 for i in str(n))\n",
    "        if n in seen:\n",
    "            return False\n",
    "        seen.add(n)\n",
    "\n",
    "    return True\n",
    "\n",
    "print(\"Happy numbers between 1 to 100:\")\n",
    "for i in range(1, 101):\n",
    "    if is_happy(i):\n",
    "        print(i)\n"
   ]
  },
  {
   "cell_type": "markdown",
   "id": "e6f0688c",
   "metadata": {},
   "source": [
    "# 5. Write a Python program to determine whether the given number is a Harshad Number?"
   ]
  },
  {
   "cell_type": "code",
   "execution_count": null,
   "id": "c48e7c9c",
   "metadata": {},
   "outputs": [],
   "source": [
    "num = int(input(\"Enter a number: \"))\n",
    "temp = num\n",
    "sum = 0\n",
    "\n",
    "while temp > 0:\n",
    "    digit = temp % 10\n",
    "    sum += digit\n",
    "    temp //= 10\n",
    "    \n",
    "if num % sum == 0:\n",
    "    print(num, \"is a Harshad number\")\n",
    "else:\n",
    "    print(num, \"is not a Harshad number\")\n"
   ]
  },
  {
   "cell_type": "markdown",
   "id": "4a4e79e8",
   "metadata": {},
   "source": [
    "# 6. Write a Python program to print all pronic numbers between 1 and 100?"
   ]
  },
  {
   "cell_type": "code",
   "execution_count": null,
   "id": "6fb8c5c9",
   "metadata": {},
   "outputs": [],
   "source": [
    "print(\"Pronic numbers between 1 to 100:\")\n",
    "for i in range(1, 101):\n",
    "    if i * (i + 1) == 2 * i:\n",
    "        print(i)\n"
   ]
  }
 ],
 "metadata": {
  "kernelspec": {
   "display_name": "Python 3 (ipykernel)",
   "language": "python",
   "name": "python3"
  },
  "language_info": {
   "codemirror_mode": {
    "name": "ipython",
    "version": 3
   },
   "file_extension": ".py",
   "mimetype": "text/x-python",
   "name": "python",
   "nbconvert_exporter": "python",
   "pygments_lexer": "ipython3",
   "version": "3.10.7"
  }
 },
 "nbformat": 4,
 "nbformat_minor": 5
}
