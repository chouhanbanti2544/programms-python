{
 "cells": [
  {
   "cell_type": "markdown",
   "id": "56d51347",
   "metadata": {},
   "source": [
    "# 1. Write a Python program to find sum of elements in list?"
   ]
  },
  {
   "cell_type": "code",
   "execution_count": null,
   "id": "196872cd",
   "metadata": {},
   "outputs": [],
   "source": [
    "my_list = [2, 3, 5, 7, 8]\n",
    "sum = 0\n",
    "\n",
    "for i in my_list:\n",
    "    sum += i\n",
    "    \n",
    "print(\"The sum of elements in the list is:\", sum)\n"
   ]
  },
  {
   "cell_type": "markdown",
   "id": "9bd9eddf",
   "metadata": {},
   "source": [
    "# 2. Write a Python program to Multiply all numbers in the list?"
   ]
  },
  {
   "cell_type": "code",
   "execution_count": null,
   "id": "6fca7d2d",
   "metadata": {},
   "outputs": [],
   "source": [
    "my_list = [2, 3, 5, 7, 8]\n",
    "product = 1\n",
    "\n",
    "for i in my_list:\n",
    "    product *= i\n",
    "    \n",
    "print(\"The product of all the elements in the list is:\", product)\n"
   ]
  },
  {
   "cell_type": "markdown",
   "id": "be895032",
   "metadata": {},
   "source": [
    "# 3. Write a Python program to find smallest number in a list?"
   ]
  },
  {
   "cell_type": "code",
   "execution_count": null,
   "id": "bc21625c",
   "metadata": {},
   "outputs": [],
   "source": [
    "my_list = [2, 3, 5, 7, 8]\n",
    "smallest = my_list[0]\n",
    "\n",
    "for i in range(len(my_list)):\n",
    "    if my_list[i] < smallest:\n",
    "        smallest = my_list[i]\n",
    "        \n",
    "print(\"The smallest number in the list is:\", smallest)\n"
   ]
  },
  {
   "cell_type": "markdown",
   "id": "de27d45b",
   "metadata": {},
   "source": [
    "# 4. Write a Python program to find largest number in a list?"
   ]
  },
  {
   "cell_type": "code",
   "execution_count": null,
   "id": "1a72d215",
   "metadata": {},
   "outputs": [],
   "source": [
    "my_list = [2, 3, 5, 7, 8]\n",
    "largest = my_list[0]\n",
    "\n",
    "for i in range(len(my_list)):\n",
    "    if my_list[i] > largest:\n",
    "        largest = my_list[i]\n",
    "        \n",
    "print(\"The largest number in the list is:\", largest)\n"
   ]
  },
  {
   "cell_type": "markdown",
   "id": "60ceec09",
   "metadata": {},
   "source": [
    "# 5. Write a Python program to find second largest number in a list?"
   ]
  },
  {
   "cell_type": "code",
   "execution_count": null,
   "id": "f019da20",
   "metadata": {},
   "outputs": [],
   "source": [
    "my_list = [2, 3, 5, 7, 8]\n",
    "largest = my_list[0]\n",
    "second_largest = my_list[0]\n",
    "\n",
    "for i in range(len(my_list)):\n",
    "    if my_list[i] > largest:\n",
    "        second_largest = largest\n",
    "        largest = my_list[i]\n",
    "    elif my_list[i] > second_largest and my_list[i] != largest:\n",
    "        second_largest = my_list[i]\n",
    "        \n",
    "print(\"The second largest number in the list is:\", second_largest)\n"
   ]
  },
  {
   "cell_type": "markdown",
   "id": "2461ad81",
   "metadata": {},
   "source": [
    "# 6. Write a Python program to find N largest elements from a list?"
   ]
  },
  {
   "cell_type": "code",
   "execution_count": null,
   "id": "7a085a29",
   "metadata": {},
   "outputs": [],
   "source": [
    "my_list = [2, 3, 5, 7, 8, 9, 11]\n",
    "n = 3\n",
    "my_list.sort(reverse=True)\n",
    "\n",
    "print(\"The\", n, \"largest elements in the list are:\", my_list[:n])\n"
   ]
  },
  {
   "cell_type": "markdown",
   "id": "8c1d6a4f",
   "metadata": {},
   "source": [
    "# 7. Write a Python program to print even numbers in a list?"
   ]
  },
  {
   "cell_type": "code",
   "execution_count": null,
   "id": "5f49fe6f",
   "metadata": {},
   "outputs": [],
   "source": [
    "my_list = [2, 3, 5, 7, 8]\n",
    "even_list = []\n",
    "\n",
    "for i in range(len(my_list)):\n",
    "    if my_list[i] % 2 == 0:\n",
    "        even_list.append(my_list[i])\n",
    "        \n",
    "print(\"The even numbers in the list are:\", even_list)\n"
   ]
  },
  {
   "cell_type": "markdown",
   "id": "c137f036",
   "metadata": {},
   "source": [
    "# 8. Write a Python program to print odd numbers in a List?"
   ]
  },
  {
   "cell_type": "code",
   "execution_count": null,
   "id": "d9989c6a",
   "metadata": {},
   "outputs": [],
   "source": [
    "my_list = [2, 3, 5, 7, 8]\n",
    "odd_list = []\n",
    "\n",
    "for i in range(len(my_list)):\n",
    "    if my_list[i] % 2 != 0:\n",
    "       \n"
   ]
  },
  {
   "cell_type": "markdown",
   "id": "518f87da",
   "metadata": {},
   "source": [
    "# 9. Write a Python program to Remove empty List from List?"
   ]
  },
  {
   "cell_type": "code",
   "execution_count": null,
   "id": "9c8f567b",
   "metadata": {},
   "outputs": [],
   "source": [
    "my_list = [[], [1,2], [], [3,4,5], [], [], [6]]\n",
    "\n",
    "# using list comprehension to remove empty lists\n",
    "new_list = [sublist for sublist in my_list if len(sublist) != 0]\n",
    "\n",
    "print(\"Original list:\", my_list)\n",
    "print(\"List after removing empty lists:\", new_list)\n"
   ]
  },
  {
   "cell_type": "markdown",
   "id": "5ef3e2d7",
   "metadata": {},
   "source": [
    "# 10. Write a Python program to Cloning or Copying a list?"
   ]
  },
  {
   "cell_type": "code",
   "execution_count": null,
   "id": "6b96cb3f",
   "metadata": {},
   "outputs": [],
   "source": [
    "my_list = [1, 2, 3, 4, 5]\n",
    "\n",
    "# using the copy() method to clone the list\n",
    "new_list = my_list.copy()\n",
    "\n",
    "print(\"Original list:\", my_list)\n",
    "print(\"Cloned list:\", new_list)\n"
   ]
  },
  {
   "cell_type": "markdown",
   "id": "6286422f",
   "metadata": {},
   "source": [
    "# 11. Write a Python program to Count occurrences of an element in a list?"
   ]
  },
  {
   "cell_type": "code",
   "execution_count": null,
   "id": "743870a4",
   "metadata": {},
   "outputs": [],
   "source": [
    "my_list = [1, 2, 3, 4, 5, 2, 3, 2]\n",
    "\n",
    "# using count() method to count occurrences of an element\n",
    "count = my_list.count(2)\n",
    "\n",
    "print(\"Original list:\", my_list)\n",
    "print(\"Number of occurrences of 2:\", count)\n"
   ]
  }
 ],
 "metadata": {
  "kernelspec": {
   "display_name": "Python 3 (ipykernel)",
   "language": "python",
   "name": "python3"
  },
  "language_info": {
   "codemirror_mode": {
    "name": "ipython",
    "version": 3
   },
   "file_extension": ".py",
   "mimetype": "text/x-python",
   "name": "python",
   "nbconvert_exporter": "python",
   "pygments_lexer": "ipython3",
   "version": "3.10.7"
  }
 },
 "nbformat": 4,
 "nbformat_minor": 5
}
