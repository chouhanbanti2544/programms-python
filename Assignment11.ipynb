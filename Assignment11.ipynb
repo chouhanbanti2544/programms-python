{
 "cells": [
  {
   "cell_type": "markdown",
   "id": "7335e33c",
   "metadata": {},
   "source": [
    "# 1. Write a Python program to find words which are greater than given length k?"
   ]
  },
  {
   "cell_type": "code",
   "execution_count": null,
   "id": "d1b9efd4",
   "metadata": {},
   "outputs": [],
   "source": [
    "def find_long_words(s, k):\n",
    "    # split the string into words\n",
    "    words = s.split()\n",
    "    # initialize an empty list to store long words\n",
    "    long_words = []\n",
    "    # loop through the words\n",
    "    for word in words:\n",
    "        # if the length of the word is greater than k, add it to the list\n",
    "        if len(word) > k:\n",
    "            long_words.append(word)\n",
    "    # return the list of long words\n",
    "    return long_words\n"
   ]
  },
  {
   "cell_type": "markdown",
   "id": "43fc26b1",
   "metadata": {},
   "source": [
    "# 2. Write a Python program for removing i-th character from a string?"
   ]
  },
  {
   "cell_type": "code",
   "execution_count": null,
   "id": "2211fca4",
   "metadata": {},
   "outputs": [],
   "source": [
    "def remove_char(s, i):\n",
    "    # check if i is a valid index\n",
    "    if i < 0 or i >= len(s):\n",
    "        return \"Invalid index\"\n",
    "    # convert the string to a list of characters\n",
    "    chars = list(s)\n",
    "    # remove the character at index i\n",
    "    del chars[i]\n",
    "    # convert the list of characters back to a string\n",
    "    s = ''.join(chars)\n",
    "    return s\n"
   ]
  },
  {
   "cell_type": "markdown",
   "id": "bf7ad157",
   "metadata": {},
   "source": [
    "# 3. Write a Python program to split and join a string?"
   ]
  },
  {
   "cell_type": "code",
   "execution_count": null,
   "id": "75fde64c",
   "metadata": {},
   "outputs": [],
   "source": [
    "def split_join(s):\n",
    "    # split the string into a list of words\n",
    "    words = s.split()\n",
    "    # join the words with a hyphen\n",
    "    s = '-'.join(words)\n",
    "    return s\n"
   ]
  },
  {
   "cell_type": "markdown",
   "id": "135c45e5",
   "metadata": {},
   "source": [
    "# 4. Write a Python to check if a given string is binary string or not?"
   ]
  },
  {
   "cell_type": "code",
   "execution_count": null,
   "id": "c8e66e3d",
   "metadata": {},
   "outputs": [],
   "source": [
    "def is_binary(s):\n",
    "    # set of allowed characters in binary string\n",
    "    allowed = {'0', '1'}\n",
    "    # convert the string to a set of characters and check if it's a subset of allowed characters\n",
    "    return set(s).issubset(allowed)\n"
   ]
  },
  {
   "cell_type": "markdown",
   "id": "debd339e",
   "metadata": {},
   "source": [
    "# 5. Write a Python program to find uncommon words from two Strings?"
   ]
  },
  {
   "cell_type": "code",
   "execution_count": null,
   "id": "42c1574d",
   "metadata": {},
   "outputs": [],
   "source": [
    "def find_uncommon_words(s1, s2):\n",
    "    # split the strings into words\n",
    "    words1 = s1.split()\n",
    "    words2 = s2.split()\n",
    "    # create a set of unique words from both strings\n",
    "    unique_words = set(words1).union(set(words2))\n",
    "    # initialize an empty list to store uncommon words\n",
    "    uncommon_words = []\n",
    "    # loop through the unique words\n",
    "    for word in unique_words:\n",
    "        # if the word appears in only one of the strings, add it to the list of uncommon words\n",
    "        if word in words1 and word not in words2 or word in words2 and word not in words1:\n",
    "            uncommon_words.append(word)\n",
    "    # return the list of uncommon words\n",
    "    return uncommon_words\n"
   ]
  },
  {
   "cell_type": "markdown",
   "id": "b4935246",
   "metadata": {},
   "source": [
    "# 6. Write a Python to find all duplicate characters in string?"
   ]
  },
  {
   "cell_type": "code",
   "execution_count": null,
   "id": "0a6bcbd9",
   "metadata": {},
   "outputs": [],
   "source": [
    "string = \"hello world\"\n",
    "char_count = {}\n",
    "for char in string:\n",
    "    if char in char_count:\n",
    "        char_count[char] += 1\n",
    "    else:\n",
    "        char_count[char] = 1\n",
    "\n",
    "for char, count in char_count.items():\n",
    "    if count > 1:\n",
    "        print(char)\n"
   ]
  },
  {
   "cell_type": "markdown",
   "id": "e9e557e2",
   "metadata": {},
   "source": [
    "# 7. Write a Python Program to check if a string contains any special character?"
   ]
  },
  {
   "cell_type": "code",
   "execution_count": null,
   "id": "b5f5e21d",
   "metadata": {},
   "outputs": [],
   "source": [
    "import string\n",
    "\n",
    "def has_special_char(string):\n",
    "    for char in string:\n",
    "        if char in string.punctuation:\n",
    "            return True\n",
    "    return False\n",
    "\n",
    "string = \"hello world!\"\n",
    "if has_special_char(string):\n",
    "    print(\"String contains special character.\")\n",
    "else:\n",
    "    print(\"String does not contain special character.\")\n"
   ]
  }
 ],
 "metadata": {
  "kernelspec": {
   "display_name": "Python 3 (ipykernel)",
   "language": "python",
   "name": "python3"
  },
  "language_info": {
   "codemirror_mode": {
    "name": "ipython",
    "version": 3
   },
   "file_extension": ".py",
   "mimetype": "text/x-python",
   "name": "python",
   "nbconvert_exporter": "python",
   "pygments_lexer": "ipython3",
   "version": "3.10.7"
  }
 },
 "nbformat": 4,
 "nbformat_minor": 5
}
