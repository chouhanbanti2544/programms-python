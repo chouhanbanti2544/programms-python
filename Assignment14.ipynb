{
 "cells": [
  {
   "cell_type": "markdown",
   "id": "912f697c",
   "metadata": {},
   "source": [
    "# Question 1:\n",
    "Define a class with a generator which can iterate the numbers, which are divisible by\n",
    "7, between a given range 0 and n."
   ]
  },
  {
   "cell_type": "code",
   "execution_count": null,
   "id": "8e2314fe",
   "metadata": {},
   "outputs": [],
   "source": [
    "class DivisibleBySeven:\n",
    "    def __init__(self, n):\n",
    "        self.n = n\n",
    "\n",
    "    def divisible_by_seven(self):\n",
    "        for num in range(0, self.n+1):\n",
    "            if num % 7 == 0:\n",
    "                yield num\n",
    "\n",
    "# Test the generator\n",
    "seven_divisible = DivisibleBySeven(50)\n",
    "for num in seven_divisible.divisible_by_seven():\n",
    "    print(num)\n"
   ]
  },
  {
   "cell_type": "markdown",
   "id": "05b80d24",
   "metadata": {},
   "source": [
    "# Question 2:\n",
    "Write a program to compute the frequency of the words from the input. The output\n",
    "should output after sorting the key alphanumerically.\n",
    "Suppose the following input is supplied to the program:\n",
    "New to Python or choosing between Python 2 and Python 3? Read Python 2 or\n",
    "Python 3.\n",
    "Then, the output should be:\n",
    "2:2\n",
    "3.:1\n",
    "3?:1\n",
    "New:1\n",
    "Python:5\n",
    "Read:1\n",
    "and:1\n",
    "between:1\n",
    "choosing:1\n",
    "or:2\n",
    "to:1"
   ]
  },
  {
   "cell_type": "code",
   "execution_count": null,
   "id": "48bd22bf",
   "metadata": {},
   "outputs": [],
   "source": [
    "from collections import Counter\n",
    "\n",
    "def word_frequency(text):\n",
    "    # Split text into words\n",
    "    words = text.split()\n",
    "\n",
    "    # Count the frequency of each word\n",
    "    frequency = Counter(words)\n",
    "\n",
    "    # Sort the words in alphabetical order\n",
    "    sorted_words = sorted(frequency.keys())\n",
    "\n",
    "    # Print the frequency of each word\n",
    "    for word in sorted_words:\n",
    "        print(f\"{word}:{frequency[word]}\")\n",
    "\n",
    "# Test the function\n",
    "text = \"New to Python or choosing between Python 2 and Python 3? Read Python 2 or Python 3.\"\n",
    "word_frequency(text)\n"
   ]
  },
  {
   "cell_type": "markdown",
   "id": "1e19bbbf",
   "metadata": {},
   "source": [
    "# Question 3:\n",
    "\n",
    "Define a class Person and its two child classes: Male and Female. All classes have a\n",
    "method &quot;getGender&quot; which can print &quot;Male&quot; for Male class and &quot;Female&quot; for Female\n",
    "class."
   ]
  },
  {
   "cell_type": "code",
   "execution_count": null,
   "id": "43555771",
   "metadata": {},
   "outputs": [],
   "source": [
    "class Person:\n",
    "    def getGender(self):\n",
    "        return \"Unknown\"\n",
    "\n",
    "class Male(Person):\n",
    "    def getGender(self):\n",
    "        return \"Male\"\n",
    "\n",
    "class Female(Person):\n",
    "    def getGender(self):\n",
    "        return \"Female\"\n",
    "\n",
    "# Test the classes\n",
    "person = Person()\n",
    "print(person.getGender())\n",
    "\n",
    "male = Male()\n",
    "print(male.getGender())\n",
    "\n",
    "female = Female()\n",
    "print(female.getGender())\n"
   ]
  },
  {
   "cell_type": "markdown",
   "id": "e6a545d7",
   "metadata": {},
   "source": [
    "# Question 4:\n",
    "Please write a program to generate all sentences where subject is in [&quot;I&quot;, &quot;You&quot;] and\n",
    "verb is in [&quot;Play&quot;, &quot;Love&quot;] and the object is in [&quot;Hockey&quot;,&quot;Football&quot;].\n"
   ]
  },
  {
   "cell_type": "code",
   "execution_count": null,
   "id": "4514ce61",
   "metadata": {},
   "outputs": [],
   "source": [
    "subjects = [\"I\", \"You\"]\n",
    "verbs = [\"Play\", \"Love\"]\n",
    "objects = [\"Hockey\", \"Football\"]\n",
    "\n",
    "for subject in subjects:\n",
    "    for verb in verbs:\n",
    "        for obj in objects:\n",
    "            print(f\"{subject} {verb} {obj}.\")\n"
   ]
  },
  {
   "cell_type": "markdown",
   "id": "31d17f51",
   "metadata": {},
   "source": [
    "# Question 5:\n",
    "Please write a program to compress and decompress the string &quot;hello world!hello\n",
    "world!hello world!hello world!&quot;."
   ]
  },
  {
   "cell_type": "code",
   "execution_count": null,
   "id": "103e976e",
   "metadata": {},
   "outputs": [],
   "source": [
    "import zlib\n",
    "\n",
    "text = \"hello world!hello world!hello world!hello world!\"\n",
    "\n",
    "# Compress the text\n",
    "compressed_text = zlib.compress(bytes(text, 'utf-8'))\n",
    "\n",
    "# Decompress the text\n",
    "decompressed_text = zlib.decompress(compressed_text)\n",
    "\n",
    "print(decompressed_text.decode('utf-8'))\n"
   ]
  },
  {
   "cell_type": "markdown",
   "id": "b415be6d",
   "metadata": {},
   "source": [
    "# Question 6:\n",
    "Please write a binary search function which searches an item in a sorted list. The\n",
    "function should return the index of element to be searched in the list."
   ]
  },
  {
   "cell_type": "code",
   "execution_count": null,
   "id": "319014d9",
   "metadata": {},
   "outputs": [],
   "source": [
    "def binary_search(arr, low, high, x):\n",
    "    if high >= low:\n",
    "        mid = (high + low) // 2\n",
    "\n",
    "        if arr[mid] == x:\n",
    "            return mid\n",
    "        elif arr[mid] > x:\n",
    "            return binary_search(arr, low, mid - 1, x)\n",
    "        else:\n",
    "            return binary_search(arr, mid + 1, high, x)\n",
    "    else:\n",
    "        return -1\n",
    "\n",
    "# Test the function\n",
    "arr = [2, 3, 4, 10, 40]\n",
    "x = 10\n",
    "\n",
    "result = binary_search(arr, 0, len(arr) - 1, x)\n",
    "\n",
    "if result != -1:\n",
    "    print(f\"Element is present at index {result}\")\n",
    "else:\n",
    "    print(\"Element is not present in array\")\n"
   ]
  }
 ],
 "metadata": {
  "kernelspec": {
   "display_name": "Python 3 (ipykernel)",
   "language": "python",
   "name": "python3"
  },
  "language_info": {
   "codemirror_mode": {
    "name": "ipython",
    "version": 3
   },
   "file_extension": ".py",
   "mimetype": "text/x-python",
   "name": "python",
   "nbconvert_exporter": "python",
   "pygments_lexer": "ipython3",
   "version": "3.10.7"
  }
 },
 "nbformat": 4,
 "nbformat_minor": 5
}
