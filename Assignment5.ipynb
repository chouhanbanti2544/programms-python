{
 "cells": [
  {
   "cell_type": "markdown",
   "id": "6e038ed7",
   "metadata": {},
   "source": [
    "# 1. Write a Python Program to Find LCM?"
   ]
  },
  {
   "cell_type": "code",
   "execution_count": 1,
   "id": "40f7dcd5",
   "metadata": {},
   "outputs": [
    {
     "name": "stdout",
     "output_type": "stream",
     "text": [
      "LCM of 12 and 18 is 36\n"
     ]
    }
   ],
   "source": [
    "def find_lcm(x, y):\n",
    "    greater = max(x, y)\n",
    "    lcm = greater\n",
    "\n",
    "    while True:\n",
    "        if lcm % x == 0 and lcm % y == 0:\n",
    "            break\n",
    "        lcm += greater\n",
    "\n",
    "    return lcm\n",
    "\n",
    "num1 = 12\n",
    "num2 = 18\n",
    "\n",
    "print(f\"LCM of {num1} and {num2} is {find_lcm(num1, num2)}\")\n"
   ]
  },
  {
   "cell_type": "markdown",
   "id": "e1b51575",
   "metadata": {},
   "source": [
    "# 2. Write a Python Program to Find HCF?"
   ]
  },
  {
   "cell_type": "code",
   "execution_count": 2,
   "id": "e1b575d7",
   "metadata": {},
   "outputs": [
    {
     "name": "stdout",
     "output_type": "stream",
     "text": [
      "HCF of 24 and 36 is 12\n"
     ]
    }
   ],
   "source": [
    "def find_hcf(x, y):\n",
    "    smaller = min(x, y)\n",
    "\n",
    "    for i in range(1, smaller+1):\n",
    "        if x % i == 0 and y % i == 0:\n",
    "            hcf = i\n",
    "\n",
    "    return hcf\n",
    "\n",
    "num1 = 24\n",
    "num2 = 36\n",
    "\n",
    "print(f\"HCF of {num1} and {num2} is {find_hcf(num1, num2)}\")\n"
   ]
  },
  {
   "cell_type": "markdown",
   "id": "a5255593",
   "metadata": {},
   "source": [
    "# 3. Write a Python Program to Convert Decimal to Binary, Octal and Hexadecimal?"
   ]
  },
  {
   "cell_type": "code",
   "execution_count": 3,
   "id": "b6a2281a",
   "metadata": {},
   "outputs": [
    {
     "name": "stdout",
     "output_type": "stream",
     "text": [
      "Binary equivalent of 255 is 11111111\n",
      "Octal equivalent of 255 is 377\n",
      "Hexadecimal equivalent of 255 is ff\n"
     ]
    }
   ],
   "source": [
    "dec = 255\n",
    "\n",
    "# decimal to binary\n",
    "print(f\"Binary equivalent of {dec} is {bin(dec)[2:]}\")\n",
    "\n",
    "# decimal to octal\n",
    "print(f\"Octal equivalent of {dec} is {oct(dec)[2:]}\")\n",
    "\n",
    "# decimal to hexadecimal\n",
    "print(f\"Hexadecimal equivalent of {dec} is {hex(dec)[2:]}\")\n"
   ]
  },
  {
   "cell_type": "markdown",
   "id": "28ab44bd",
   "metadata": {},
   "source": [
    "# 4. Write a Python Program To Find ASCII value of a character?"
   ]
  },
  {
   "cell_type": "code",
   "execution_count": 4,
   "id": "c2934d36",
   "metadata": {},
   "outputs": [
    {
     "name": "stdout",
     "output_type": "stream",
     "text": [
      "ASCII value of 'A' is 65\n"
     ]
    }
   ],
   "source": [
    "char = 'A'\n",
    "print(f\"ASCII value of '{char}' is {ord(char)}\")\n"
   ]
  },
  {
   "cell_type": "markdown",
   "id": "227f09dc",
   "metadata": {},
   "source": [
    "# 5. Write a Python Program to Make a Simple Calculator with 4 basic mathematical operations?"
   ]
  },
  {
   "cell_type": "code",
   "execution_count": 6,
   "id": "62bca121",
   "metadata": {},
   "outputs": [
    {
     "name": "stdout",
     "output_type": "stream",
     "text": [
      "Choose an operation:\n",
      "1. Add\n",
      "2. Subtract\n",
      "3. Multiply\n",
      "4. Divide\n",
      "Enter your choice (1/2/3/4): 1\n",
      "Enter first number: 5\n",
      "Enter second number: 2\n",
      "5.0 + 2.0 = 7.0\n"
     ]
    }
   ],
   "source": [
    "def add(x, y):\n",
    "    return x + y\n",
    "\n",
    "def subtract(x, y):\n",
    "    return x - y\n",
    "\n",
    "def multiply(x, y):\n",
    "    return x * y\n",
    "\n",
    "def divide(x, y):\n",
    "    if y == 0:\n",
    "        return \"Cannot divide by zero!\"\n",
    "    else:\n",
    "        return x / y\n",
    "\n",
    "print(\"Choose an operation:\\n1. Add\\n2. Subtract\\n3. Multiply\\n4. Divide\")\n",
    "\n",
    "choice = input(\"Enter your choice (1/2/3/4): \")\n",
    "\n",
    "num1 = float(input(\"Enter first number: \"))\n",
    "num2 = float(input(\"Enter second number: \"))\n",
    "\n",
    "if choice == '1':\n",
    "    print(f\"{num1} + {num2} = {add(num1, num2)}\")\n",
    "elif choice == '2':\n",
    "    print(f\"{num1} - {num2} = {subtract(num1, num2)}\")\n",
    "elif choice == '3':\n",
    "    print(f\"{num1} * {num2} = {multiply(num1, num2)}\")\n",
    "elif choice == '4':\n",
    "    print(f\"{num1} / {num2} = {divide(num1, num2)}\")\n",
    "else:\n",
    "    print(\"Invalid input\")\n"
   ]
  }
 ],
 "metadata": {
  "kernelspec": {
   "display_name": "Python 3 (ipykernel)",
   "language": "python",
   "name": "python3"
  },
  "language_info": {
   "codemirror_mode": {
    "name": "ipython",
    "version": 3
   },
   "file_extension": ".py",
   "mimetype": "text/x-python",
   "name": "python",
   "nbconvert_exporter": "python",
   "pygments_lexer": "ipython3",
   "version": "3.10.7"
  }
 },
 "nbformat": 4,
 "nbformat_minor": 5
}
