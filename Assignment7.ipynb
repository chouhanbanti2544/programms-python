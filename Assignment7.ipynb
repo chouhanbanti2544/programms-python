{
 "cells": [
  {
   "cell_type": "markdown",
   "id": "be98b9b6",
   "metadata": {},
   "source": [
    "# 1. Write a Python Program to find sum of array?"
   ]
  },
  {
   "cell_type": "code",
   "execution_count": 1,
   "id": "8bb022a0",
   "metadata": {},
   "outputs": [
    {
     "name": "stdout",
     "output_type": "stream",
     "text": [
      "5\n",
      "Sum of array: 5\n"
     ]
    }
   ],
   "source": [
    "# take an array as input\n",
    "arr = [int(x) for x in input().split()]\n",
    "\n",
    "# initialize sum variable to 0\n",
    "sum = 0\n",
    "\n",
    "# loop through the array and add each element to sum\n",
    "for i in arr:\n",
    "    sum += i\n",
    "\n",
    "# print the sum\n",
    "print(\"Sum of array:\", sum)\n"
   ]
  },
  {
   "cell_type": "markdown",
   "id": "e445c1b5",
   "metadata": {},
   "source": [
    "# 2. Write a Python Program to find largest element in an array?"
   ]
  },
  {
   "cell_type": "code",
   "execution_count": 2,
   "id": "748864fd",
   "metadata": {},
   "outputs": [
    {
     "name": "stdout",
     "output_type": "stream",
     "text": [
      "10\n",
      "Largest element in array: 10\n"
     ]
    }
   ],
   "source": [
    "# take an array as input\n",
    "arr = [int(x) for x in input().split()]\n",
    "\n",
    "# initialize max variable to the first element of the array\n",
    "max = arr[0]\n",
    "\n",
    "# loop through the array and compare each element with max\n",
    "for i in arr:\n",
    "    if i > max:\n",
    "        max = i\n",
    "\n",
    "# print the max element\n",
    "print(\"Largest element in array:\", max)\n"
   ]
  },
  {
   "cell_type": "markdown",
   "id": "dbc95d63",
   "metadata": {},
   "source": [
    "# 3. Write a Python Program for array rotation?"
   ]
  },
  {
   "cell_type": "code",
   "execution_count": 3,
   "id": "d65b1889",
   "metadata": {},
   "outputs": [
    {
     "name": "stdout",
     "output_type": "stream",
     "text": [
      "10\n",
      "2\n",
      "Rotated array: [10]\n"
     ]
    }
   ],
   "source": [
    "# take an array and rotation value as input\n",
    "arr = [int(x) for x in input().split()]\n",
    "rot = int(input())\n",
    "\n",
    "# slice the array from rotation index and append it to the end\n",
    "new_arr = arr[rot:] + arr[:rot]\n",
    "\n",
    "# print the rotated array\n",
    "print(\"Rotated array:\", new_arr)\n"
   ]
  },
  {
   "cell_type": "markdown",
   "id": "a85cbb28",
   "metadata": {},
   "source": [
    "# 4. Write a Python Program to Split the array and add the first part to the end?"
   ]
  },
  {
   "cell_type": "code",
   "execution_count": 4,
   "id": "65008b05",
   "metadata": {},
   "outputs": [
    {
     "name": "stdout",
     "output_type": "stream",
     "text": [
      "5\n",
      "10\n",
      "Split and added array: [5]\n"
     ]
    }
   ],
   "source": [
    "# take an array and split index as input\n",
    "arr = [int(x) for x in input().split()]\n",
    "split = int(input())\n",
    "\n",
    "# split the array at split index and concatenate it with first part\n",
    "new_arr = arr[split:] + arr[:split]\n",
    "\n",
    "# print the split and added array\n",
    "print(\"Split and added array:\", new_arr)\n"
   ]
  },
  {
   "cell_type": "markdown",
   "id": "ad0b0138",
   "metadata": {},
   "source": [
    "# 5. Write a Python Program to check if given array is Monotonic?"
   ]
  },
  {
   "cell_type": "code",
   "execution_count": 5,
   "id": "2ab85ecf",
   "metadata": {},
   "outputs": [
    {
     "name": "stdout",
     "output_type": "stream",
     "text": [
      "10\n",
      "Monotonic array\n"
     ]
    }
   ],
   "source": [
    "# take an array as input\n",
    "arr = [int(x) for x in input().split()]\n",
    "\n",
    "# check if the array is strictly increasing or strictly decreasing\n",
    "if all(arr[i] <= arr[i+1] for i in range(len(arr)-1)) or all(arr[i] >= arr[i+1] for i in range(len(arr)-1)):\n",
    "    print(\"Monotonic array\")\n",
    "else:\n",
    "    print(\"Not a monotonic array\")\n"
   ]
  },
  {
   "cell_type": "code",
   "execution_count": null,
   "id": "6081e54a",
   "metadata": {},
   "outputs": [],
   "source": []
  }
 ],
 "metadata": {
  "kernelspec": {
   "display_name": "Python 3 (ipykernel)",
   "language": "python",
   "name": "python3"
  },
  "language_info": {
   "codemirror_mode": {
    "name": "ipython",
    "version": 3
   },
   "file_extension": ".py",
   "mimetype": "text/x-python",
   "name": "python",
   "nbconvert_exporter": "python",
   "pygments_lexer": "ipython3",
   "version": "3.10.7"
  }
 },
 "nbformat": 4,
 "nbformat_minor": 5
}
